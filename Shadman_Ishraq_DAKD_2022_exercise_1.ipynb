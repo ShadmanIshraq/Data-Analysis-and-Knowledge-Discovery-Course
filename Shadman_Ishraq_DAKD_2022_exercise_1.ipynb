{
 "cells": [
  {
   "cell_type": "markdown",
   "metadata": {},
   "source": [
    "<div class=\"alert alert-block alert-warning\">\n",
    "    <h1><center> DAKD 2022 EXERCISE 1: DATA UNDERSTANDING  </center></h1>"
   ]
  },
  {
   "cell_type": "markdown",
   "metadata": {},
   "source": [
    "This exercise relates to the _data understanding_ and  _data preparation_ stages of the Crisp Data Mining (CRISP-DM) model presented on the course. The questions at this stage of a data-analysis project are for example: \n",
    "\n",
    "- Is the data quality sufficient?\n",
    "- How can we check the data for problems?\n",
    "- How do we have to clean the data?\n",
    "- How is the data best transformed for modeling?\n",
    "\n",
    "It may be tempting to just run a model on data without checking it. However, not doing basic checks can ruin your whole analysis and make your results invalid as well as mislead you in further analyses. There is no excuse for not plotting and checking that the data is as we expect and clean. In this exercise we do just that, check the validity of data and familiarize ourselves with a dataset, also discussing preprocessing and multi-dimensional plotting. \n",
    " \n",
    "------------"
   ]
  },
  {
   "cell_type": "markdown",
   "metadata": {},
   "source": [
    "### <font color = red> *** FILL YOUR INFORMATION BELOW *** </font>\n",
    "Shadman Ishraq <br>\n",
    "2205047 <br>\n",
    "shishr@utu.fi  <br>\n",
    "12.11.2022  <br>"
   ]
  },
  {
   "cell_type": "markdown",
   "metadata": {
    "id": "W3jIT0S_3BPb"
   },
   "source": [
    "\n",
    "#### General guidance for exercises \n",
    "\n",
    "-  You can add more code and markup cells, as long as the flow of the notebook stays readable and logical.\n",
    "- Answer **all** questions (except the bonus if you do not want to attempt it), even if you can't get your script to fully work\n",
    "- Write clear and easily readable code, include explanations of what your code does\n",
    "- Make informative illustrations: include labels for x and y axes, legends and captions for your plots\n",
    "- Before saving the ipynb file (and possible printing) run: \"Restart & Run all\", to make sure you return a file that works as expected.\n",
    "- Grading: *Fail*/*Pass*/*Pass with honors* (+1)\n",
    "- If you encounter problems, Google first. If you can't find an answer to the problem, don't hesitate to ask in the Moodle discussion or directly via moodle chat.\n",
    "- Don't leave it to the last moment! No feedback service during weekends."
   ]
  },
  {
   "cell_type": "markdown",
   "metadata": {
    "id": "2I2WLapM3BPc"
   },
   "source": [
    "### <font color = red> Packages needed for this exercise: </font>\n",
    "- The exercise can be done without importing any extra packages, but you can import new ones but bear in mind that if you are importing many new packages, you may be complicating your answer. "
   ]
  },
  {
   "cell_type": "code",
   "execution_count": 1,
   "metadata": {
    "id": "kNsRA1WF3BPc"
   },
   "outputs": [],
   "source": [
    "# --- Libraries with a short description ---\n",
    "import pandas as pd # for data manipulation\n",
    "import matplotlib.pyplot as plt # for plotting\n",
    "import numpy as np #for numeric calculations and making simulated data.\n",
    "import seaborn as sns # for plotting, an extension on matplotlib \n",
    "\n",
    "# - sklearn has many data analysis utility functions like scaling as well as a large variety of modeling tools.\n",
    "from sklearn.decomposition import PCA \n",
    "from sklearn.preprocessing import StandardScaler\n",
    "from sklearn.preprocessing import minmax_scale\n",
    "from sklearn.preprocessing import scale\n",
    "from sklearn.manifold import TSNE\n",
    "\n",
    "# This forces plots to be shown inline in the notebook\n",
    "%matplotlib inline"
   ]
  },
  {
   "cell_type": "markdown",
   "metadata": {},
   "source": [
    "\n",
    "<div class=\"alert alert-block alert-warning\">\n",
    "    <h1><center> PLOTTING TUTORIAL </center></h1>"
   ]
  },
  {
   "cell_type": "markdown",
   "metadata": {},
   "source": [
    "This small explanation of the matplotlib package aims to avoid confusion and help you avoid common mistakes and frustration. Matplotlib is an object-oriented plotting package with the benefit of giving the user a lot of control. The downside is that it can be confusing to new users. **If you are having problems with the plotting exercises, return to this tutorial as it explains the needed concepts to do the exercises!**\n",
    "\n",
    "-----------"
   ]
  },
  {
   "cell_type": "markdown",
   "metadata": {},
   "source": [
    "###  Figure and axes \n",
    "\n",
    "\n",
    "All plots in matplotlib are structured with the **<font color = dimgrey> figure </font>** and **<font color = blue> axes </font>** objects. \n",
    "\n",
    "- The **<font color = dimgrey> figure </font>** object is a container for all plotting elements (in other words, everything we see).  \n",
    "- A figure can have many **<font color = blue> axes </font>**. They are the objects you plot on to. The axes can be anywhere inside the figure and can even overlap. Position of axes is defined relative to the figure. \n",
    "\n",
    "The **<font color = blue> axes </font>** objects have the methods you will use to define most of your plots. For example axes.hist() is used to draw a histogram and axes.set_title() to give one axes a title. The name of the object can be a bit confusing as it does not refer to the axes in the way \"x-axis\" does but to the container of a single plot.\n",
    "\n",
    "\n",
    "--------------\n",
    "     \n",
    "- Below is an example that illustrates how **<font color = dimgrey> figures </font>**and **<font color = blue> axes </font>** work together in matplotlib. The comments explain what is done in every row of code. <font color = green> You are encouraged to play around with it, but its not required in terms of the exercise </font>. Below, we will create all figures and axes separately, but later on we will use a quicker way to do so. \n",
    "\n",
    " This is not yet a part of the exercises themselves and you do not need to change anything ! "
   ]
  },
  {
   "cell_type": "code",
   "execution_count": 3,
   "metadata": {},
   "outputs": [],
   "source": [
    "#  --- Lets make some example data. ---\n",
    "x_example_data = np.linspace(0,5,10)\n",
    "y_example_data = x_example_data**2"
   ]
  },
  {
   "cell_type": "code",
   "execution_count": null,
   "metadata": {
    "scrolled": true
   },
   "outputs": [],
   "source": [
    "### Create a figure ###\n",
    "example_figure = plt.figure(figsize =(5,5)) #you give the size of the figure as a tuple of inches\n",
    "\n",
    "### Create an axes separately and add it to the figure ###\n",
    "example_axes_outer = example_figure.add_axes([0.1, 0.1, 0.9, 0.9]) #the argument gives the relative location of the axes in percentage from the corners of the figure. The order is left, bottom, right, top. \n",
    "\n",
    "### Set labels and titles to the axes ###\n",
    "example_axes_outer.set_xlabel(\"This is how you set an x-axis label to an axes\")\n",
    "example_axes_outer.set_ylabel(\"The y-label of an axes is set like this\")\n",
    "example_axes_outer.set_title(\"We learned how to give an axes a title!\")\n",
    "example_axes_inner = example_figure.add_axes([0.45, 0.45, 0.4, 0.3])\n",
    "example_axes_inner.set_title(\"This axes has a title too\")\n",
    "\n",
    "### Add something to the axes ###\n",
    "example_axes_inner.scatter(x_example_data, y_example_data)\n",
    "\n",
    "# Multiple things, like lines can be plotted on same axis. \n",
    "example_axes_outer.plot(x_example_data**4, y_example_data**2)\n",
    "example_axes_outer.plot(x_example_data**7, y_example_data**2)\n",
    "\n",
    "# If you want to add other objects, you add them to axes too, like text\n",
    "# Now you specify the location relative to the parent axes\n",
    "example_axes_inner.text(3, 5, \"This is a text object relative to the inner axes\")\n",
    "\n",
    "#Many more things can be added to axes in a similar way, not just text. \n",
    "#For more information there are many good tutorials available for example in youtube. "
   ]
  },
  {
   "cell_type": "markdown",
   "metadata": {},
   "source": [
    "###  Subplots: creating multiple axes and placing them in a grid on the figure \n",
    "An established convention of using matplotlib is to start plotting by calling the **<font color = blue> plt.subplots </font>** function, which automatically creates a figure and a determined number of axes in a grid inside it and automatically links the axes to the figure. Even when creating just one axes this is a often used way to start making a plot.\n",
    "\n",
    "The most important arguments to **<font color = blue> plt.subplots </font>** are **nrows**, **ncols**, **figsize**, **sharex** and **sharey**\n",
    "- **nrows** controls how many subplots there will be in the grid by row, **ncol** controls the number of columns\n",
    "- **figsize** is a tuple e.g (1,5) which controls the size of the **<font color = dimgrey> figure </font>**, first is width and then height.\n",
    "- sharex (True, False) tells matplotlib whether all axes in the grid should have same x-axis scale and ticks, sharey does the same for all y.\n",
    "\n",
    "--------\n",
    "Below an example on creating subplots is presented. There is also a template-like example on how to fill the subplots in a loop using the  **enumerate** function of python for indexing into the subplots. The function **enumerate()** will give you an additional int indexer over the object you are looping over. This indexer can be used to loop over the different subplot elements like the axes for each of the subplots.\n",
    "\n",
    "**<font color = dimgrey> plt.tight_layout() </font>** is also a good command to know with subplots. It attempts to automatically arrange the different axes in a pretty way. It should be called after the plot is finished. "
   ]
  },
  {
   "cell_type": "code",
   "execution_count": null,
   "metadata": {},
   "outputs": [],
   "source": [
    "# ----- Create some random data for the example, 3 continuous numeric features and 3 binary -----\n",
    "#dont worry about understanding the function, it creates lists and is shorthand for a for loop called list comprehension.\n",
    "numeric_datas = [np.random.rand(10,2) for _ in range(0,3)] #this creates list of lists of linear data, using list comprehension\n",
    "binary_datas = [(np.unique(np.random.randint(0, 2, size= 10), return_counts = True)[1]) for _ in range(0,3)] # create list of lists of samples of 0,1 like (co"
   ]
  },
  {
   "cell_type": "code",
   "execution_count": null,
   "metadata": {},
   "outputs": [],
   "source": [
    "# Create figure with six axes in a 2*3 grid and set up titles --------------------------------------------------------\n",
    "fig, axes = plt.subplots(2,3, figsize = (10,5)) # now axes have indexes like axes[i, j]\n",
    "numeric_plot_titles = ['scatter_plot_1', 'a second plot', 'yet a third plot' ]#some titles for the different axes\n",
    "binary_plot_titles = ['coin_tosses1', 'tossing again', 'still tossing' ]#some titles for the different axes\n",
    "\n",
    "\n",
    "# Enumerate the index into the axes, fill the first 3 columns of first row with scatterplots of numeric_datas --------\n",
    "i = 0 # for indexing to the row of the axes [**i**, j]\n",
    "for j, numeric_data in enumerate(numeric_datas): # j = [0,1, ... n_datasets] for filling the columns, i stays constant as its the row\n",
    "    axes[i, j].scatter(x = numeric_data[:, 0], y = numeric_data[:, 1]) #plots are called on the axes\n",
    "    axes[i, j].set_title(numeric_plot_titles[j]) #set a title for each axes\n",
    "plt.tight_layout()\n",
    "\n",
    "\n",
    "# Plot the binary data -----------------------------------------------------------------------------------------------\n",
    "i = 1 # second row\n",
    "for j, binary_data in enumerate(binary_datas): # j = [0,1, ... n_datasets] for filling the columns, i stays constant as its the row\n",
    "    axes[i, j].bar(x = [\"0\",\"1\"], height = binary_data) #make a barplot\n",
    "    axes[i, j].set_title(binary_plot_titles[j]) #set a title for each axes\n",
    "    axes[i, j].set_ylim((0,10)) # set the yaxis limits, set_xlim works the same way.  \n",
    "\n",
    "fig.suptitle(\"fig.suptitle gives the figure a title and axes.set_title the axes\")\n",
    "plt.tight_layout()"
   ]
  },
  {
   "cell_type": "markdown",
   "metadata": {},
   "source": [
    "####  <font color = maroon> Seaborn and matplotlib </font>\n",
    "- Finally, it is good to know, that the popular Seaborn plotting library is based on matplotlib, and was designed to be an extension of it and to be more user-friendly and faster to use.  \n",
    "\n",
    "- One tip in particular that might help new users with seaborn is that two kinnds of plotting functions: for figure-level and axes-level plots. Axes level plots can be put into subplots like matplotlib plots as you saw in the example above whereas figure-level plots are done completely with seaborn. (For more information on this see https://seaborn.pydata.org/tutorial/function_overview.html)\n",
    "\n",
    "- For axes-level plots, the matplotlib-axes object is usually given to the seaborn plotting function as an argument. There is an example below."
   ]
  },
  {
   "cell_type": "code",
   "execution_count": null,
   "metadata": {},
   "outputs": [],
   "source": [
    "fig, axes = plt.subplots(2)\n",
    "\n",
    "# make some data \n",
    "random_data_a = np.random.rand(30)\n",
    "random_data_b = np.random.rand(100)\n",
    "\n",
    "# print the data we are plotting\n",
    "sns.histplot(data = random_data_a, ax = axes[0]) # we make a seaborn plot and put it into one of the axes we created\n",
    "sns.histplot(data =  random_data_b, ax = axes[1]) # we make a seaborn plot and put it into one of the axes we created"
   ]
  },
  {
   "cell_type": "markdown",
   "metadata": {},
   "source": [
    "\n",
    "<div class=\"alert alert-block alert-warning\">\n",
    "    <h1><center> START OF EXERCISES </center></h1>"
   ]
  },
  {
   "cell_type": "markdown",
   "metadata": {
    "id": "8AZs1Rdr3BPd"
   },
   "source": [
    "##  <font color = dimgrey> 1. Introduction to the dataset </font>"
   ]
  },
  {
   "cell_type": "markdown",
   "metadata": {
    "id": "2Y4dstDz3BPe"
   },
   "source": [
    "The exercise data depicts data gathered on hospital patients with and without cardiovascular disease, depicted by the target variable **_cardio_**, a common disease associated with a buildup of fatty deposits inside the arteries (blood vessels) of the heart. \n",
    " \n",
    " -------\n",
    "As is often the case with data analysis projects, the features/variables have been retrieved from different sources: \n",
    "- doctors notes (texts)\n",
    "- examination variables that have come from a database containing lab results or taken during a doctors examination\n",
    "- self reported variables\n",
    "\n",
    "--------------\n",
    "The exercise data has the following columns/attributes:\n",
    "\n",
    "| Feature | Type | Explanation |\n",
    "| :- | :- | :-\n",
    "| age | numeric | The age of the patient in days \n",
    "| sex | binary | Male/Female\n",
    "| weight | numeric | Measured weight of the patient (cm)\n",
    "| height | numeric | Measured weight of the patient (kg)\n",
    "| ap_hi | numeric | Measured Systolic blood pressure\n",
    "| ap_lo | numeric | Measured Diastolic blood pressure\n",
    "| smoke | binary | A subjective feature based on asking the patient whether or not he/she smokes\n",
    "| active | binary |  A subjective feature based on asking the patient whether or not he/she exercises regularly\n",
    "| cholesterol | categorical | Cholesterol associated risk information evaluated by a doctor\n",
    "| cardio | binary | Whether or not the patient has been diagnosed with cardiac disease."
   ]
  },
  {
   "cell_type": "markdown",
   "metadata": {
    "id": "jMatXBHE3BPh"
   },
   "source": [
    "-----------\n",
    "#### ***Reading data*** \n",
    "\n",
    "It is good practice to read the features in using their correct types instead of fixing them later. Below, there is ready-maed code for you to read in the data, using the data types and column names listed in the above table. Don't change the name of the variable, _data_. It is important in later exercises (for example in ex. 5e) that this is the name of the variable. <font color = red> If you have the dataset in the same folder as this notebook, the path already given to you should work. </font>\n",
    "\n",
    "---------------"
   ]
  },
  {
   "cell_type": "code",
   "execution_count": 2,
   "metadata": {
    "scrolled": false
   },
   "outputs": [],
   "source": [
    "# --- READ IN DATA (no need to change) --------\n",
    "\n",
    "data_path = \"cardiovascular_disease_data_ex_1.csv\" #if you just give the name of the file it will look for the data in the same folder as your script\n",
    "data = pd.read_csv(data_path, dtype = {'age': 'int', 'height': 'int', 'weight':'int', 'ap_lo':'int', 'ap_hi':'int', 'sex': 'boolean', 'smoke': 'boolean',\n",
    "       'active':'boolean', 'cardio':'boolean', 'cholesterol':'category'}) #the main data you use in this exercise should have this variable name, so that code given for you further on will run. "
   ]
  },
  {
   "cell_type": "markdown",
   "metadata": {},
   "source": [
    "---------\n",
    "***Exercise 1 a)***\n",
    "1. First, print out the first five rows of the data.\n",
    "\n",
    "2. Then, save the feature names to lists by their types: make three lists named **numeric_features**, **binary_features** and **categorical_features**, containing the **names** of the features of each corresponding type (*you can think in terms of this exercise that binary variables can also be called booleans*).\n",
    "\n",
    "_Saving the feature names to a list or lists and using them to subset prevents typing errors and avoids repetition!_"
   ]
  },
  {
   "cell_type": "code",
   "execution_count": 16,
   "metadata": {},
   "outputs": [
    {
     "data": {
      "text/html": [
       "<div>\n",
       "<style scoped>\n",
       "    .dataframe tbody tr th:only-of-type {\n",
       "        vertical-align: middle;\n",
       "    }\n",
       "\n",
       "    .dataframe tbody tr th {\n",
       "        vertical-align: top;\n",
       "    }\n",
       "\n",
       "    .dataframe thead th {\n",
       "        text-align: right;\n",
       "    }\n",
       "</style>\n",
       "<table border=\"1\" class=\"dataframe\">\n",
       "  <thead>\n",
       "    <tr style=\"text-align: right;\">\n",
       "      <th></th>\n",
       "      <th>age</th>\n",
       "      <th>sex</th>\n",
       "      <th>height</th>\n",
       "      <th>weight</th>\n",
       "      <th>ap_hi</th>\n",
       "      <th>ap_lo</th>\n",
       "      <th>smoke</th>\n",
       "      <th>active</th>\n",
       "      <th>cardio</th>\n",
       "      <th>cholesterol</th>\n",
       "    </tr>\n",
       "  </thead>\n",
       "  <tbody>\n",
       "    <tr>\n",
       "      <th>0</th>\n",
       "      <td>19797</td>\n",
       "      <td>False</td>\n",
       "      <td>161</td>\n",
       "      <td>55</td>\n",
       "      <td>102</td>\n",
       "      <td>68</td>\n",
       "      <td>False</td>\n",
       "      <td>True</td>\n",
       "      <td>False</td>\n",
       "      <td>elevated</td>\n",
       "    </tr>\n",
       "    <tr>\n",
       "      <th>1</th>\n",
       "      <td>22571</td>\n",
       "      <td>True</td>\n",
       "      <td>178</td>\n",
       "      <td>68</td>\n",
       "      <td>120</td>\n",
       "      <td>70</td>\n",
       "      <td>False</td>\n",
       "      <td>False</td>\n",
       "      <td>False</td>\n",
       "      <td>normal</td>\n",
       "    </tr>\n",
       "    <tr>\n",
       "      <th>2</th>\n",
       "      <td>16621</td>\n",
       "      <td>True</td>\n",
       "      <td>169</td>\n",
       "      <td>69</td>\n",
       "      <td>120</td>\n",
       "      <td>80</td>\n",
       "      <td>False</td>\n",
       "      <td>True</td>\n",
       "      <td>False</td>\n",
       "      <td>normal</td>\n",
       "    </tr>\n",
       "    <tr>\n",
       "      <th>3</th>\n",
       "      <td>16688</td>\n",
       "      <td>False</td>\n",
       "      <td>156</td>\n",
       "      <td>77</td>\n",
       "      <td>120</td>\n",
       "      <td>80</td>\n",
       "      <td>False</td>\n",
       "      <td>True</td>\n",
       "      <td>False</td>\n",
       "      <td>normal</td>\n",
       "    </tr>\n",
       "    <tr>\n",
       "      <th>4</th>\n",
       "      <td>19498</td>\n",
       "      <td>True</td>\n",
       "      <td>170</td>\n",
       "      <td>98</td>\n",
       "      <td>130</td>\n",
       "      <td>80</td>\n",
       "      <td>True</td>\n",
       "      <td>True</td>\n",
       "      <td>True</td>\n",
       "      <td>elevated</td>\n",
       "    </tr>\n",
       "  </tbody>\n",
       "</table>\n",
       "</div>"
      ],
      "text/plain": [
       "     age    sex  height  weight  ap_hi  ap_lo  smoke  active  cardio  \\\n",
       "0  19797  False     161      55    102     68  False    True   False   \n",
       "1  22571   True     178      68    120     70  False   False   False   \n",
       "2  16621   True     169      69    120     80  False    True   False   \n",
       "3  16688  False     156      77    120     80  False    True   False   \n",
       "4  19498   True     170      98    130     80   True    True    True   \n",
       "\n",
       "  cholesterol  \n",
       "0    elevated  \n",
       "1      normal  \n",
       "2      normal  \n",
       "3      normal  \n",
       "4    elevated  "
      ]
     },
     "execution_count": 16,
     "metadata": {},
     "output_type": "execute_result"
    }
   ],
   "source": [
    "# --- Your code here for 1a) \n",
    "#(1) printing the first five rorws\n",
    "\n",
    "data.head(5)\n"
   ]
  },
  {
   "cell_type": "code",
   "execution_count": 3,
   "metadata": {},
   "outputs": [
    {
     "name": "stdout",
     "output_type": "stream",
     "text": [
      "numeric_features = ['age', 'height', 'weight', 'ap_hi', 'ap_lo']\n",
      "binary_features = ['sex', 'smoke', 'active', 'cardio']\n",
      "categorical_features = ['cholesterol']\n"
     ]
    }
   ],
   "source": [
    "#(2) naming the data types of the column according to numeric,binary & categorical.\n",
    "\n",
    "numeric_features = []\n",
    "binary_features = []\n",
    "categorical_features = []\n",
    "\n",
    "for column in data:\n",
    "    if data.dtypes[column] == 'int': numeric_features.append(column)\n",
    "    if data.dtypes[column] == 'boolean': binary_features.append(column)\n",
    "    if data.dtypes[column] == 'category': categorical_features.append(column)\n",
    "\n",
    "print(F'{numeric_features = }')\n",
    "print(F'{binary_features = }')\n",
    "print(F'{categorical_features = }')"
   ]
  },
  {
   "cell_type": "markdown",
   "metadata": {},
   "source": [
    "_________\n",
    "## <font color = dimgrey> 2. Checking data quality\n",
    "    \n",
    "Often in data analysis projects the data has not been gathered exclusively for the data analysis only but originally for other reasons. Because of this, the features are most often not nicely formatted and may have mistakes. It might be tempting to just use the data as is with a model, but it is very important to first check the data for possible mistakes as they can make all the conclusions you make based on your analysis misleading. One good routine for checking data quality is to first calculate statistical descriptives and then to plot the features to check if the values are realistic. \n",
    "\n",
    "  \n",
    "-----------    \n",
    "    \n",
    "Some descriptive statistics don't really make sense for certain kinds of features. In pandas, like in many other packages, some functions work differently depending on the data type of a column. In the following exercise we will look at the data descriptive statistics as well as how the behavior can change when the data types are different. "
   ]
  },
  {
   "cell_type": "markdown",
   "metadata": {},
   "source": [
    "----------\n",
    "***2 a)***  Print out the data types of your dataset below.\n",
    "\n",
    "_Perhaps the most common data types in pandas (see https://pandas.pydata.org/docs/user_guide/basics.html#basics-dtypes) are **float**, **int**, **bool** and **category**._"
   ]
  },
  {
   "cell_type": "code",
   "execution_count": 39,
   "metadata": {},
   "outputs": [
    {
     "data": {
      "text/plain": [
       "age               int32\n",
       "sex             boolean\n",
       "height            int32\n",
       "weight            int32\n",
       "ap_hi             int32\n",
       "ap_lo             int32\n",
       "smoke           boolean\n",
       "active          boolean\n",
       "cardio          boolean\n",
       "cholesterol    category\n",
       "dtype: object"
      ]
     },
     "execution_count": 39,
     "metadata": {},
     "output_type": "execute_result"
    }
   ],
   "source": [
    "# --- 2a) Print the feature types of your dataset --- #\n",
    "\n",
    "#printing the features\n",
    "data.dtypes\n"
   ]
  },
  {
   "cell_type": "markdown",
   "metadata": {},
   "source": [
    "--------\n",
    "***2 b)*** Use the **DataFrame.describe() method** in the cell below on your data.   \n"
   ]
  },
  {
   "cell_type": "code",
   "execution_count": 5,
   "metadata": {},
   "outputs": [
    {
     "data": {
      "text/html": [
       "<div>\n",
       "<style scoped>\n",
       "    .dataframe tbody tr th:only-of-type {\n",
       "        vertical-align: middle;\n",
       "    }\n",
       "\n",
       "    .dataframe tbody tr th {\n",
       "        vertical-align: top;\n",
       "    }\n",
       "\n",
       "    .dataframe thead th {\n",
       "        text-align: right;\n",
       "    }\n",
       "</style>\n",
       "<table border=\"1\" class=\"dataframe\">\n",
       "  <thead>\n",
       "    <tr style=\"text-align: right;\">\n",
       "      <th></th>\n",
       "      <th>age</th>\n",
       "      <th>height</th>\n",
       "      <th>weight</th>\n",
       "      <th>ap_hi</th>\n",
       "      <th>ap_lo</th>\n",
       "    </tr>\n",
       "  </thead>\n",
       "  <tbody>\n",
       "    <tr>\n",
       "      <th>count</th>\n",
       "      <td>210.000000</td>\n",
       "      <td>210.000000</td>\n",
       "      <td>210.000000</td>\n",
       "      <td>210.000000</td>\n",
       "      <td>210.000000</td>\n",
       "    </tr>\n",
       "    <tr>\n",
       "      <th>mean</th>\n",
       "      <td>19455.504762</td>\n",
       "      <td>164.180952</td>\n",
       "      <td>73.895238</td>\n",
       "      <td>127.857143</td>\n",
       "      <td>81.814286</td>\n",
       "    </tr>\n",
       "    <tr>\n",
       "      <th>std</th>\n",
       "      <td>2429.010199</td>\n",
       "      <td>7.534648</td>\n",
       "      <td>14.612326</td>\n",
       "      <td>17.508947</td>\n",
       "      <td>9.947652</td>\n",
       "    </tr>\n",
       "    <tr>\n",
       "      <th>min</th>\n",
       "      <td>14367.000000</td>\n",
       "      <td>142.000000</td>\n",
       "      <td>45.000000</td>\n",
       "      <td>90.000000</td>\n",
       "      <td>50.000000</td>\n",
       "    </tr>\n",
       "    <tr>\n",
       "      <th>25%</th>\n",
       "      <td>17635.750000</td>\n",
       "      <td>158.000000</td>\n",
       "      <td>64.000000</td>\n",
       "      <td>120.000000</td>\n",
       "      <td>80.000000</td>\n",
       "    </tr>\n",
       "    <tr>\n",
       "      <th>50%</th>\n",
       "      <td>19778.000000</td>\n",
       "      <td>164.000000</td>\n",
       "      <td>70.000000</td>\n",
       "      <td>120.000000</td>\n",
       "      <td>80.000000</td>\n",
       "    </tr>\n",
       "    <tr>\n",
       "      <th>75%</th>\n",
       "      <td>21230.500000</td>\n",
       "      <td>170.000000</td>\n",
       "      <td>81.000000</td>\n",
       "      <td>140.000000</td>\n",
       "      <td>90.000000</td>\n",
       "    </tr>\n",
       "    <tr>\n",
       "      <th>max</th>\n",
       "      <td>23565.000000</td>\n",
       "      <td>195.000000</td>\n",
       "      <td>125.000000</td>\n",
       "      <td>190.000000</td>\n",
       "      <td>120.000000</td>\n",
       "    </tr>\n",
       "  </tbody>\n",
       "</table>\n",
       "</div>"
      ],
      "text/plain": [
       "                age      height      weight       ap_hi       ap_lo\n",
       "count    210.000000  210.000000  210.000000  210.000000  210.000000\n",
       "mean   19455.504762  164.180952   73.895238  127.857143   81.814286\n",
       "std     2429.010199    7.534648   14.612326   17.508947    9.947652\n",
       "min    14367.000000  142.000000   45.000000   90.000000   50.000000\n",
       "25%    17635.750000  158.000000   64.000000  120.000000   80.000000\n",
       "50%    19778.000000  164.000000   70.000000  120.000000   80.000000\n",
       "75%    21230.500000  170.000000   81.000000  140.000000   90.000000\n",
       "max    23565.000000  195.000000  125.000000  190.000000  120.000000"
      ]
     },
     "execution_count": 5,
     "metadata": {},
     "output_type": "execute_result"
    }
   ],
   "source": [
    "# --- Your code for 2b) --- #\n",
    "\n",
    "data.describe()"
   ]
  },
  {
   "cell_type": "markdown",
   "metadata": {},
   "source": [
    "--------\n",
    "***2 c)*** Did you get all of the features statistics or not? What do you think happened? "
   ]
  },
  {
   "cell_type": "markdown",
   "metadata": {},
   "source": [
    "<font color = red> ***--- I only got the output of quantitave variables. Sex,smoke,active,cardio & cholesterol these variables are qualitative. So, to find the features of these variables we need to know unique values,frequencies. Here, by choosing the categorical & binary observations in describe() function the features can be figured out. ---*** </font>\n"
   ]
  },
  {
   "cell_type": "markdown",
   "metadata": {},
   "source": [
    "----------\n",
    "***2 d)*** Calculate descriptives for the binary (boolean) features and the categorical feature <br>\n",
    "\n",
    "_tip: in python, same type data structures can in many cases be concatenated using the + operator. If youre using the lists of names you created to subset, you can concatenate the two lists of feature names and use the resulting list to help you subset the dataframe_"
   ]
  },
  {
   "cell_type": "code",
   "execution_count": 14,
   "metadata": {},
   "outputs": [
    {
     "data": {
      "text/html": [
       "<div>\n",
       "<style scoped>\n",
       "    .dataframe tbody tr th:only-of-type {\n",
       "        vertical-align: middle;\n",
       "    }\n",
       "\n",
       "    .dataframe tbody tr th {\n",
       "        vertical-align: top;\n",
       "    }\n",
       "\n",
       "    .dataframe thead th {\n",
       "        text-align: right;\n",
       "    }\n",
       "</style>\n",
       "<table border=\"1\" class=\"dataframe\">\n",
       "  <thead>\n",
       "    <tr style=\"text-align: right;\">\n",
       "      <th></th>\n",
       "      <th>cholesterol</th>\n",
       "    </tr>\n",
       "  </thead>\n",
       "  <tbody>\n",
       "    <tr>\n",
       "      <th>count</th>\n",
       "      <td>210</td>\n",
       "    </tr>\n",
       "    <tr>\n",
       "      <th>unique</th>\n",
       "      <td>4</td>\n",
       "    </tr>\n",
       "    <tr>\n",
       "      <th>top</th>\n",
       "      <td>normal</td>\n",
       "    </tr>\n",
       "    <tr>\n",
       "      <th>freq</th>\n",
       "      <td>153</td>\n",
       "    </tr>\n",
       "  </tbody>\n",
       "</table>\n",
       "</div>"
      ],
      "text/plain": [
       "       cholesterol\n",
       "count          210\n",
       "unique           4\n",
       "top         normal\n",
       "freq           153"
      ]
     },
     "execution_count": 14,
     "metadata": {},
     "output_type": "execute_result"
    }
   ],
   "source": [
    "# 2d) Your code here #\n",
    "\n",
    "#calculating the descriptive features of the categorical variables. \n",
    "\n",
    "data[categorical_features].describe()"
   ]
  },
  {
   "cell_type": "code",
   "execution_count": 18,
   "metadata": {},
   "outputs": [
    {
     "data": {
      "text/html": [
       "<div>\n",
       "<style scoped>\n",
       "    .dataframe tbody tr th:only-of-type {\n",
       "        vertical-align: middle;\n",
       "    }\n",
       "\n",
       "    .dataframe tbody tr th {\n",
       "        vertical-align: top;\n",
       "    }\n",
       "\n",
       "    .dataframe thead th {\n",
       "        text-align: right;\n",
       "    }\n",
       "</style>\n",
       "<table border=\"1\" class=\"dataframe\">\n",
       "  <thead>\n",
       "    <tr style=\"text-align: right;\">\n",
       "      <th></th>\n",
       "      <th>sex</th>\n",
       "      <th>smoke</th>\n",
       "      <th>active</th>\n",
       "      <th>cardio</th>\n",
       "    </tr>\n",
       "  </thead>\n",
       "  <tbody>\n",
       "    <tr>\n",
       "      <th>count</th>\n",
       "      <td>210</td>\n",
       "      <td>210</td>\n",
       "      <td>210</td>\n",
       "      <td>210</td>\n",
       "    </tr>\n",
       "    <tr>\n",
       "      <th>unique</th>\n",
       "      <td>2</td>\n",
       "      <td>2</td>\n",
       "      <td>2</td>\n",
       "      <td>2</td>\n",
       "    </tr>\n",
       "    <tr>\n",
       "      <th>top</th>\n",
       "      <td>False</td>\n",
       "      <td>False</td>\n",
       "      <td>True</td>\n",
       "      <td>False</td>\n",
       "    </tr>\n",
       "    <tr>\n",
       "      <th>freq</th>\n",
       "      <td>129</td>\n",
       "      <td>186</td>\n",
       "      <td>162</td>\n",
       "      <td>105</td>\n",
       "    </tr>\n",
       "  </tbody>\n",
       "</table>\n",
       "</div>"
      ],
      "text/plain": [
       "          sex  smoke active cardio\n",
       "count     210    210    210    210\n",
       "unique      2      2      2      2\n",
       "top     False  False   True  False\n",
       "freq      129    186    162    105"
      ]
     },
     "execution_count": 18,
     "metadata": {},
     "output_type": "execute_result"
    }
   ],
   "source": [
    "#calculating the descriptive features of the binary variables. \n",
    "\n",
    "data[binary_features].describe()"
   ]
  },
  {
   "cell_type": "markdown",
   "metadata": {},
   "source": [
    "----------\n",
    "Now, we will see ***what would have happened if the data was read in using default settings*** and not giving information about the types of the features (dtypes), giving no arguments to pd.read_csv. \n",
    "\n",
    "Run the below cell (no need to modify the code) and look at the output of the cell with the wrongly read data. Compare it with the output of the cell where you used the correctly read data to get the descriptives. "
   ]
  },
  {
   "cell_type": "code",
   "execution_count": 20,
   "metadata": {},
   "outputs": [
    {
     "data": {
      "text/html": [
       "<div>\n",
       "<style scoped>\n",
       "    .dataframe tbody tr th:only-of-type {\n",
       "        vertical-align: middle;\n",
       "    }\n",
       "\n",
       "    .dataframe tbody tr th {\n",
       "        vertical-align: top;\n",
       "    }\n",
       "\n",
       "    .dataframe thead th {\n",
       "        text-align: right;\n",
       "    }\n",
       "</style>\n",
       "<table border=\"1\" class=\"dataframe\">\n",
       "  <thead>\n",
       "    <tr style=\"text-align: right;\">\n",
       "      <th></th>\n",
       "      <th>age</th>\n",
       "      <th>sex</th>\n",
       "      <th>height</th>\n",
       "      <th>weight</th>\n",
       "      <th>ap_hi</th>\n",
       "      <th>ap_lo</th>\n",
       "      <th>smoke</th>\n",
       "      <th>active</th>\n",
       "      <th>cardio</th>\n",
       "    </tr>\n",
       "  </thead>\n",
       "  <tbody>\n",
       "    <tr>\n",
       "      <th>count</th>\n",
       "      <td>210.000000</td>\n",
       "      <td>210.000000</td>\n",
       "      <td>210.000000</td>\n",
       "      <td>210.000000</td>\n",
       "      <td>210.000000</td>\n",
       "      <td>210.000000</td>\n",
       "      <td>210.000000</td>\n",
       "      <td>210.000000</td>\n",
       "      <td>210.000000</td>\n",
       "    </tr>\n",
       "    <tr>\n",
       "      <th>mean</th>\n",
       "      <td>19455.504762</td>\n",
       "      <td>0.385714</td>\n",
       "      <td>164.180952</td>\n",
       "      <td>73.895238</td>\n",
       "      <td>127.857143</td>\n",
       "      <td>81.814286</td>\n",
       "      <td>0.114286</td>\n",
       "      <td>0.771429</td>\n",
       "      <td>0.500000</td>\n",
       "    </tr>\n",
       "    <tr>\n",
       "      <th>std</th>\n",
       "      <td>2429.010199</td>\n",
       "      <td>0.487927</td>\n",
       "      <td>7.534648</td>\n",
       "      <td>14.612326</td>\n",
       "      <td>17.508947</td>\n",
       "      <td>9.947652</td>\n",
       "      <td>0.318918</td>\n",
       "      <td>0.420916</td>\n",
       "      <td>0.501195</td>\n",
       "    </tr>\n",
       "    <tr>\n",
       "      <th>min</th>\n",
       "      <td>14367.000000</td>\n",
       "      <td>0.000000</td>\n",
       "      <td>142.000000</td>\n",
       "      <td>45.000000</td>\n",
       "      <td>90.000000</td>\n",
       "      <td>50.000000</td>\n",
       "      <td>0.000000</td>\n",
       "      <td>0.000000</td>\n",
       "      <td>0.000000</td>\n",
       "    </tr>\n",
       "    <tr>\n",
       "      <th>25%</th>\n",
       "      <td>17635.750000</td>\n",
       "      <td>0.000000</td>\n",
       "      <td>158.000000</td>\n",
       "      <td>64.000000</td>\n",
       "      <td>120.000000</td>\n",
       "      <td>80.000000</td>\n",
       "      <td>0.000000</td>\n",
       "      <td>1.000000</td>\n",
       "      <td>0.000000</td>\n",
       "    </tr>\n",
       "    <tr>\n",
       "      <th>50%</th>\n",
       "      <td>19778.000000</td>\n",
       "      <td>0.000000</td>\n",
       "      <td>164.000000</td>\n",
       "      <td>70.000000</td>\n",
       "      <td>120.000000</td>\n",
       "      <td>80.000000</td>\n",
       "      <td>0.000000</td>\n",
       "      <td>1.000000</td>\n",
       "      <td>0.500000</td>\n",
       "    </tr>\n",
       "    <tr>\n",
       "      <th>75%</th>\n",
       "      <td>21230.500000</td>\n",
       "      <td>1.000000</td>\n",
       "      <td>170.000000</td>\n",
       "      <td>81.000000</td>\n",
       "      <td>140.000000</td>\n",
       "      <td>90.000000</td>\n",
       "      <td>0.000000</td>\n",
       "      <td>1.000000</td>\n",
       "      <td>1.000000</td>\n",
       "    </tr>\n",
       "    <tr>\n",
       "      <th>max</th>\n",
       "      <td>23565.000000</td>\n",
       "      <td>1.000000</td>\n",
       "      <td>195.000000</td>\n",
       "      <td>125.000000</td>\n",
       "      <td>190.000000</td>\n",
       "      <td>120.000000</td>\n",
       "      <td>1.000000</td>\n",
       "      <td>1.000000</td>\n",
       "      <td>1.000000</td>\n",
       "    </tr>\n",
       "  </tbody>\n",
       "</table>\n",
       "</div>"
      ],
      "text/plain": [
       "                age         sex      height      weight       ap_hi  \\\n",
       "count    210.000000  210.000000  210.000000  210.000000  210.000000   \n",
       "mean   19455.504762    0.385714  164.180952   73.895238  127.857143   \n",
       "std     2429.010199    0.487927    7.534648   14.612326   17.508947   \n",
       "min    14367.000000    0.000000  142.000000   45.000000   90.000000   \n",
       "25%    17635.750000    0.000000  158.000000   64.000000  120.000000   \n",
       "50%    19778.000000    0.000000  164.000000   70.000000  120.000000   \n",
       "75%    21230.500000    1.000000  170.000000   81.000000  140.000000   \n",
       "max    23565.000000    1.000000  195.000000  125.000000  190.000000   \n",
       "\n",
       "            ap_lo       smoke      active      cardio  \n",
       "count  210.000000  210.000000  210.000000  210.000000  \n",
       "mean    81.814286    0.114286    0.771429    0.500000  \n",
       "std      9.947652    0.318918    0.420916    0.501195  \n",
       "min     50.000000    0.000000    0.000000    0.000000  \n",
       "25%     80.000000    0.000000    1.000000    0.000000  \n",
       "50%     80.000000    0.000000    1.000000    0.500000  \n",
       "75%     90.000000    0.000000    1.000000    1.000000  \n",
       "max    120.000000    1.000000    1.000000    1.000000  "
      ]
     },
     "execution_count": 20,
     "metadata": {},
     "output_type": "execute_result"
    }
   ],
   "source": [
    "# read in the dataset with no arguments\n",
    "wrongly_read_data = pd.read_csv(data_path)\n",
    "\n",
    "# calculate descriptives for the data that was wrongly read in. \n",
    "wrongly_read_data.describe()"
   ]
  },
  {
   "cell_type": "markdown",
   "metadata": {},
   "source": [
    "***2 e)*** \n",
    "- Looking at the above output, can you now say whats wrong with this presentation and why it was important to define the data types? "
   ]
  },
  {
   "cell_type": "markdown",
   "metadata": {},
   "source": [
    "<font color = red> ***--- Above output shows that 0 & 1 are assigned for the qualitative variables because the minimum & maximum  value features are stating 0 & 1 for each of these variables. Hence, it can be said that the mean,standard deviation & quantile values are not appropiate. So, it would be proper if the frequency,count,unique these can be measured for the qualitative variables. ---*** </font>"
   ]
  },
  {
   "cell_type": "markdown",
   "metadata": {},
   "source": [
    "-----------------------\n",
    "## 3. Plotting numeric features\n",
    "Descriptives don't really give a full or intuitive picture of the distribution of features. Next, we will make use of different plots to check the data quality.  "
   ]
  },
  {
   "cell_type": "markdown",
   "metadata": {},
   "source": [
    "----------\n",
    "***3 a)*** \n",
    "\n",
    "Plot the numeric features as histograms (see tutorial if you need help).\n",
    "\n",
    "_tip: if you give only one grid-size argument for plt.subplots() like plt.subplots(3) the grid will be one-dimensional and you can index it with only one indexer._  \n"
   ]
  },
  {
   "cell_type": "code",
   "execution_count": 73,
   "metadata": {},
   "outputs": [
    {
     "data": {
      "image/png": "[encoded data removed]",
      "text/plain": [
       "<Figure size 500x1000 with 5 Axes>"
      ]
     },
     "metadata": {},
     "output_type": "display_data"
    }
   ],
   "source": [
    "# --- Your code for 3a) here --- #\n",
    "\n",
    "#plotting histogram accorrding to the tutorial by using plt.subplots()\n",
    "\n",
    "fig, axes = plt.subplots(5,figsize=(5,10))\n",
    "\n",
    "# printing the plotting data\n",
    "\n",
    "sns.histplot(data = data['age'], ax = axes[0]) # we make a seaborn plot and put it into one of the axes we created\n",
    "sns.histplot(data = data['height'], ax = axes[1])\n",
    "sns.histplot(data = data['weight'], ax = axes[2])\n",
    "sns.histplot(data = data['ap_hi'], ax = axes[3])\n",
    "sns.histplot(data = data['ap_lo'], ax = axes[4])\n",
    "\n",
    "fig.suptitle(\"Histogram of numeric features\")\n",
    "plt.tight_layout()\n"
   ]
  },
  {
   "cell_type": "markdown",
   "metadata": {},
   "source": [
    "_______\n",
    "## 4. Plotting binary and categorical features"
   ]
  },
  {
   "cell_type": "markdown",
   "metadata": {},
   "source": [
    "***4 a)*** Plot **barplots** for each of the non-numeric features. **Use fractions, not the real frequencies of the levels of these features**.\n",
    "\n",
    "--------------\n",
    "\n",
    "_tip: For plotting, see documentation on axes.bar. To get the fractions, see the value_counts function and its optional argument normalize._\n",
    "\n",
    "_If you read in the dtypes to be pandas dtype.boolean, in some cases its easier to work with other packages, suchs as matplotlib when they are represented as numbers [0,1] and not True or False. If you get errors you can try to cast them momentarily to be int or float with astype. This does not mean that you've done the exercise incorrectly, just that you have to change them for the plotting package._ "
   ]
  },
  {
   "cell_type": "code",
   "execution_count": 6,
   "metadata": {},
   "outputs": [
    {
     "data": {
      "image/png": "[encoded data removed]",
      "text/plain": [
       "<Figure size 1000x1000 with 4 Axes>"
      ]
     },
     "metadata": {},
     "output_type": "display_data"
    }
   ],
   "source": [
    "# --- Your code for 4a) here --- #\n",
    "fig, axes = plt.subplots(2,3,figsize = (10,10))\n",
    "\n",
    "for j, variable in enumerate(binary_features):\n",
    "    values = data[variable].value_counts(normalize=True)\n",
    "    x = data[variable].unique().astype(str)\n",
    "    axes[j//2,j%2].bar(x=x, height=values)\n",
    "    axes[j//2,j%2].set_title(variable)\n",
    "\n",
    "fig.delaxes(axes[0,2])  \n",
    "fig.delaxes(axes[1,2])    \n",
    "fig.suptitle(\"Binary Features\")\n",
    "plt.tight_layout()"
   ]
  },
  {
   "cell_type": "code",
   "execution_count": 46,
   "metadata": {},
   "outputs": [
    {
     "data": {
      "image/png": "[encoded data removed]",
      "text/plain": [
       "<Figure size 1000x1000 with 1 Axes>"
      ]
     },
     "metadata": {},
     "output_type": "display_data"
    }
   ],
   "source": [
    "fig, axes = plt.subplots(2,2,figsize = (10,10))\n",
    "\n",
    "for j, variable in enumerate(categorical_features):\n",
    "    values = data[variable].value_counts(normalize=True)\n",
    "    x = data[variable].unique().astype(str)\n",
    "    axes[j//3,j%3].bar(x=x, height=values)\n",
    "    axes[j//3,j%3].set_title(variable)\n",
    "\n",
    "fig.delaxes(axes[0,1])  \n",
    "fig.delaxes(axes[1,0]) \n",
    "fig.delaxes(axes[1,1]) \n",
    "fig.suptitle(\"Categorical Features\")\n",
    "plt.tight_layout()\n"
   ]
  },
  {
   "cell_type": "markdown",
   "metadata": {},
   "source": [
    "**4 b)** \n",
    "\n",
    "Do you see something odd with one of the features? Fix it. \n",
    "\n",
    "_If you read the dtype of the categorical feature to be pandas dtype.categorical, **you have to also use the pandas function remove_categories to remove the category level from the feature**, even if you would have already removed the value. You can do this like: _data['feature_name'] = data['feature_name'].cat.remove_categories(\"category name to delete\")_"
   ]
  },
  {
   "cell_type": "code",
   "execution_count": 81,
   "metadata": {},
   "outputs": [],
   "source": [
    "### Your code for 4b) here ###\n",
    "\n",
    "#the feature cholesterol of categorical_features showing a term elev ated.Which is an error & removing it by putting feature_name= chokesterol & category name to delete = elev ated.\n",
    "data['cholesterol'] = data['cholesterol'].cat.remove_categories('elev ated')\n"
   ]
  },
  {
   "cell_type": "markdown",
   "metadata": {},
   "source": [
    "-------------\n",
    "\n",
    "## 5. Preprocessing numeric features"
   ]
  },
  {
   "cell_type": "markdown",
   "metadata": {},
   "source": [
    "Scaling the data improves the performance of machine learning algorithms in many cases, or perhaps better put, can ruin performance if not done. For instance with distance based algorithms covered in the course such as PCA, T-SNE and KNN some features with large values can dominate the distance calculations. \n",
    "\n",
    "-----------\n",
    "We will look at two often used ways of bringing the values to the same scale: **min-max scaling to [0,1]** and **standardizing the features to 0 mean and unit variance**. We will see, that the decision has implications on how the data will look afterwards. Standardizing values is very common in statistics and min-max scaling is for example used in training neural networks, where we want the range to match the range of an activation function in the network. Its good to know both. \n",
    "\n",
    "Two functions, sklearn.minmax_scale and sklearn.scale have been imported for you and you can use them in the following exercises.\n",
    "__________________________\n",
    "\n"
   ]
  },
  {
   "cell_type": "markdown",
   "metadata": {},
   "source": [
    "**5 a)** In this exercise we will use boxplots. Explain what a boxplot is and what information it gives you. "
   ]
  },
  {
   "cell_type": "markdown",
   "metadata": {},
   "source": [
    "<font color = red> --- To illustrate the summary of a group of data values with features like minimum, first quartile, median, third quartile, and maximum, a box plot is constructed. A box is produced in the box plot between the first and third quartiles, and a vertical line also exists that passes through the box at the median. Here, the y-axis displays the frequency distribution, while the x-axis indicates the data to be shown. --- </font>"
   ]
  },
  {
   "cell_type": "markdown",
   "metadata": {},
   "source": [
    "**5 b)** Min-max numeric attributes to [0,1] and **store the results in a new dataframe called data_min_maxed**. You might have to wrap the data to a dataframe again using pd.DataFrame()"
   ]
  },
  {
   "cell_type": "code",
   "execution_count": 4,
   "metadata": {},
   "outputs": [
    {
     "name": "stdout",
     "output_type": "stream",
     "text": [
      "          age    height  weight  ap_hi     ap_lo\n",
      "0    0.590346  0.358491  0.1250   0.12  0.257143\n",
      "1    0.891933  0.679245  0.2875   0.30  0.285714\n",
      "2    0.245053  0.509434  0.3000   0.30  0.428571\n",
      "3    0.252337  0.264151  0.4000   0.30  0.428571\n",
      "4    0.557839  0.528302  0.6625   0.40  0.428571\n",
      "..        ...       ...     ...    ...       ...\n",
      "205  0.246032  0.301887  0.1250   0.30  0.428571\n",
      "206  0.258208  0.528302  0.2875   0.20  0.285714\n",
      "207  0.951294  0.283019  0.4125   0.10  0.142857\n",
      "208  0.094477  0.207547  0.1250   0.30  0.428571\n",
      "209  0.399652  0.566038  0.4125   0.50  0.571429\n",
      "\n",
      "[210 rows x 5 columns]\n"
     ]
    }
   ],
   "source": [
    "# --- Your code for 5b) here --- #\n",
    "# use the variable name data_min_maxed\n",
    "\n",
    "#creating a data min_max containing numeric features.\n",
    "min_max = data[numeric_features].values\n",
    "\n",
    "#storing the max-min numeric attributes [0,1] in a new data frame data_min_maxed.\n",
    "data_min_maxed = pd.DataFrame(minmax_scale(min_max,feature_range=(0,1)), columns=numeric_features)\n",
    "print(data_min_maxed)\n"
   ]
  },
  {
   "cell_type": "markdown",
   "metadata": {},
   "source": [
    "**5 c)** Standardize numeric attributes to 0 mean and unit variance and **store the results in a new dataframe called data_standardized**"
   ]
  },
  {
   "cell_type": "code",
   "execution_count": 5,
   "metadata": {},
   "outputs": [
    {
     "name": "stdout",
     "output_type": "stream",
     "text": [
      "          age    height    weight     ap_hi     ap_lo\n",
      "0    0.140926 -0.423185 -1.296193 -1.480325 -1.392016\n",
      "1    1.285684  1.838449 -0.404407 -0.449822 -1.190484\n",
      "2   -1.169727  0.641113 -0.335808 -0.449822 -0.182819\n",
      "3   -1.142077 -1.088372  0.212983 -0.449822 -0.182819\n",
      "4    0.017537  0.774151  1.653560  0.122679 -0.182819\n",
      "..        ...       ...       ...       ...       ...\n",
      "205 -1.166013 -0.822297 -1.296193 -0.449822 -0.182819\n",
      "206 -1.119793  0.774151 -0.404407 -1.022324 -1.190484\n",
      "207  1.511004 -0.955335  0.281582 -1.594825 -2.198148\n",
      "208 -1.741280 -1.487484 -1.296193 -0.449822 -0.182819\n",
      "209 -0.582904  1.040225  0.281582  0.695180  0.824845\n",
      "\n",
      "[210 rows x 5 columns]\n"
     ]
    }
   ],
   "source": [
    "# Your code for 5c here --- #\n",
    "import sklearn\n",
    "#using standardscaler() function \n",
    "object = StandardScaler()\n",
    "\n",
    "#standardization of the numeric attributes\n",
    "data_standardized = pd.DataFrame(object.fit_transform(data[numeric_features]), columns=numeric_features)\n",
    "print(data_standardized)"
   ]
  },
  {
   "cell_type": "markdown",
   "metadata": {},
   "source": [
    "**5 d)** Make two boxplots of the 'age' feature, one plot with the data_min_maxed and one with the data_standardized. Preferably put the plots side-by-side and give each titles. See the tutorial in the beginning for help. "
   ]
  },
  {
   "cell_type": "code",
   "execution_count": 30,
   "metadata": {},
   "outputs": [
    {
     "data": {
      "image/png": "[encoded data removed]",
      "text/plain": [
       "<Figure size 1000x1000 with 1 Axes>"
      ]
     },
     "metadata": {},
     "output_type": "display_data"
    }
   ],
   "source": [
    "# Your code for 5d) here --- #\n",
    "\n",
    "#creating the boxplot of data_min_max age feature\n",
    "fig, axes = plt.subplots(1, figsize=(10,10))\n",
    "\n",
    "sns.boxplot(data=data_min_maxed['age'])\n",
    " \n",
    "fig.suptitle(\"Min maxed data(age)\")\n",
    "plt.tight_layout()\n"
   ]
  },
  {
   "cell_type": "code",
   "execution_count": 31,
   "metadata": {},
   "outputs": [
    {
     "data": {
      "image/png": "[encoded data removed]",
      "text/plain": [
       "<Figure size 1000x1000 with 1 Axes>"
      ]
     },
     "metadata": {},
     "output_type": "display_data"
    }
   ],
   "source": [
    "#creating the boxplot of data_standardized age feature\n",
    "fig, axes = plt.subplots(1, figsize=(10,10))\n",
    "\n",
    "sns.boxplot(data=data_standardized['age'])\n",
    " \n",
    "fig.suptitle(\"Standardized data(age)\")\n",
    "plt.tight_layout()"
   ]
  },
  {
   "cell_type": "markdown",
   "metadata": {},
   "source": [
    "---------\n",
    "\n",
    "Lets see the differences of these preprocessing methods through an example. We will add an \"outlier\" point (some point with a large value) to replace the \n",
    "last value in both data, then again minmax and standardize and plot. The code to add the value is given for you and you shouldn't change it. \n",
    "\n",
    "--------------------\n",
    "\n",
    "***5e) Do the following:***\n",
    "1. Take the data for the age feature (age_w_outlier) provided for you\n",
    "2. Make two variables, age_w_outlier_minmaxed, containing the min-maxed values of the age_w_outlier and\n",
    "3.  age_w_outlier_standardized containing the standardized values for the age_w_outlier\n"
   ]
  },
  {
   "cell_type": "code",
   "execution_count": 6,
   "metadata": {},
   "outputs": [],
   "source": [
    "### Add an outlier, DONT CHANGE THIS CELL CODE, JUST RUN IT ###\n",
    "data_w_outlier = data.copy() #data should be the name of the variable where you have stored your data!\n",
    "data_w_outlier.loc[data.shape[0] -1 , 'age'] = 150 #change the last value of age to be 150\n",
    "age_w_outlier = data_w_outlier.age"
   ]
  },
  {
   "cell_type": "code",
   "execution_count": 19,
   "metadata": {},
   "outputs": [
    {
     "name": "stdout",
     "output_type": "stream",
     "text": [
      "            0\n",
      "0    0.839078\n",
      "1    0.957549\n",
      "2    0.703438\n",
      "3    0.706299\n",
      "4    0.826308\n",
      "..        ...\n",
      "205  0.703822\n",
      "206  0.708606\n",
      "207  0.980867\n",
      "208  0.644288\n",
      "209  0.000000\n",
      "\n",
      "[210 rows x 1 columns]\n",
      "0      0.154476\n",
      "1      1.158731\n",
      "2     -0.995313\n",
      "3     -0.971057\n",
      "4      0.046230\n",
      "         ...   \n",
      "205   -0.992055\n",
      "206   -0.951508\n",
      "207    1.356396\n",
      "208   -1.496716\n",
      "209   -6.958212\n",
      "Name: 0, Length: 210, dtype: float64\n"
     ]
    }
   ],
   "source": [
    "# --- Your code for 5e) --- \n",
    "\n",
    "# create age_w_outlier_minmaxed, keep the names the same\n",
    "age_w_outlier_minmaxed =pd.DataFrame(minmax_scale(age_w_outlier))\n",
    "print(age_w_outlier_minmaxed)\n",
    "\n",
    "# create age_w_outlier_standardized\n",
    "age_w_outlier_standardized = pd.DataFrame(object.fit_transform(age_w_outlier.values.reshape(-1,1)))[0] #added [0] to avoid the dimensional error\n",
    "print(age_w_outlier_standardized)\n"
   ]
  },
  {
   "cell_type": "markdown",
   "metadata": {},
   "source": [
    "***Below there is pre-written code for you to plot the different cases. Run it. The code should run if you have named your features appropriately. Run the code.***"
   ]
  },
  {
   "cell_type": "code",
   "execution_count": 17,
   "metadata": {},
   "outputs": [
    {
     "data": {
      "image/png": "[encoded data removed]",
      "text/plain": [
       "<Figure size 640x480 with 1 Axes>"
      ]
     },
     "metadata": {},
     "output_type": "display_data"
    },
    {
     "data": {
      "image/png": "[encoded data removed]",
      "text/plain": [
       "<Figure size 640x480 with 1 Axes>"
      ]
     },
     "metadata": {},
     "output_type": "display_data"
    }
   ],
   "source": [
    "# Wrap in a dataframe that will have two features - the age feature without the outlier, and the age feature with it, min-maxed.\n",
    "minmaxed_datas = pd.DataFrame({\"minmaxed_age_no_outlier\" : data_min_maxed.age, \n",
    "              \"minmaxed_age_with_outlier\": age_w_outlier_minmaxed })\n",
    "\n",
    "# Wrap in a dataframe that will have two features - the age feature without the outlier, and the age feature with it, standardized. \n",
    "standardized_datas = pd.DataFrame({\"standardized_data_no_outlier\" : data_standardized.age, \n",
    "              \"standardized_data_w_outlier\": age_w_outlier_standardized })\n",
    "\n",
    "axes_minmaxed = minmaxed_datas[['minmaxed_age_no_outlier', 'minmaxed_age_with_outlier']].plot(kind='box', title='Minmax with and without outlier')\n",
    "axes_std = standardized_datas[['standardized_data_no_outlier', 'standardized_data_w_outlier']].plot(kind='box', title='Standardized with and without outlier')\n"
   ]
  },
  {
   "cell_type": "markdown",
   "metadata": {},
   "source": [
    "----------\n",
    "**5 f) Look at the output of the above cell and answer the following**: \n",
    "\n",
    "1. Can you notice a difference between the two cases (min-maxed and standardized)? \n",
    "2. Can you say something about the difference of the effect of min-maxing and standardization?\n"
   ]
  },
  {
   "cell_type": "markdown",
   "metadata": {},
   "source": [
    "<font color = red> ***1. Comparing to the standardized data boxplot, the min-maxed boxplot has more difference in case of with & without outlier.\n",
    " \n",
    "<font color = red> 2.StandardScaler abides by the Standard Normal Distribution (SND). As a result, it adjusts the data to unit variance and sets mean = 0. All data characteristics are scaled by MinMaxScaler in the [0, 1] range or, if there are negative values in the dataset, in the [-1, 1] range.*** </font>"
   ]
  },
  {
   "cell_type": "markdown",
   "metadata": {},
   "source": [
    "---------------\n",
    "## 6. Preprocessing categorical features\n",
    "\n"
   ]
  },
  {
   "cell_type": "markdown",
   "metadata": {},
   "source": [
    "We can roughly divide categorical variables/features to two types:  ***nominal categorical***  and  ***ordinal categorical*** variables/features. Some cases are clear in terms of which of the two a feature falls into. For example nationality is not an ordered feature, but which grade in school someone is has a natural ordering. **One-hot encoding** was presented in the lectures and will be used in the following exercises with different learning methods.\n",
    "\n",
    "\n",
    "-----\n",
    "***Nominal categorical features need to be encoded***, because not encoding them implies that they have an order. For example, consider a dataset where you would have rows by different countries, encoded randomly with numbers, for ex. Finland = 1, Norway = 2 and so on. For some analyses and methods this would imply that Norway is somehow \"greater\" in value than Finland. For some algorithms, the implication would also be, that some of the countries would be \"closer\" to each other. \n",
    "\n",
    "------\n",
    "***Ordinal categorical features do not necessarily need to be encoded***, but there are cases where it can be wise. One case is that the categories are not even distance from each other, which is the case with the 'cholesterol' feature with the levels 'normal', 'elevated' and 'at risk'. Its not clear that these are equal in distance from each other. When unsure, it may also be better to one-hot encode, and a lot of packages do it for you behind the scenes. Here we decide to one-hot encode.  \n",
    "\n",
    "---------------------\n"
   ]
  },
  {
   "cell_type": "markdown",
   "metadata": {},
   "source": [
    "**6 a)** One-hot-encode the cholesterol-feature and add the one-hot features to the data. Give the new features meaningful names. Print the first rows of the resulting dataframe. \n",
    "\n",
    "_tip: pandas has a function for this, google!_"
   ]
  },
  {
   "cell_type": "code",
   "execution_count": 85,
   "metadata": {},
   "outputs": [
    {
     "data": {
      "text/html": [
       "<div>\n",
       "<style scoped>\n",
       "    .dataframe tbody tr th:only-of-type {\n",
       "        vertical-align: middle;\n",
       "    }\n",
       "\n",
       "    .dataframe tbody tr th {\n",
       "        vertical-align: top;\n",
       "    }\n",
       "\n",
       "    .dataframe thead th {\n",
       "        text-align: right;\n",
       "    }\n",
       "</style>\n",
       "<table border=\"1\" class=\"dataframe\">\n",
       "  <thead>\n",
       "    <tr style=\"text-align: right;\">\n",
       "      <th></th>\n",
       "      <th>age</th>\n",
       "      <th>sex</th>\n",
       "      <th>height</th>\n",
       "      <th>weight</th>\n",
       "      <th>ap_hi</th>\n",
       "      <th>ap_lo</th>\n",
       "      <th>smoke</th>\n",
       "      <th>active</th>\n",
       "      <th>cardio</th>\n",
       "      <th>cholesterol_at risk</th>\n",
       "      <th>cholesterol_elevated</th>\n",
       "      <th>cholesterol_normal</th>\n",
       "    </tr>\n",
       "  </thead>\n",
       "  <tbody>\n",
       "    <tr>\n",
       "      <th>0</th>\n",
       "      <td>19797</td>\n",
       "      <td>False</td>\n",
       "      <td>161</td>\n",
       "      <td>55</td>\n",
       "      <td>102</td>\n",
       "      <td>68</td>\n",
       "      <td>False</td>\n",
       "      <td>True</td>\n",
       "      <td>False</td>\n",
       "      <td>0</td>\n",
       "      <td>1</td>\n",
       "      <td>0</td>\n",
       "    </tr>\n",
       "    <tr>\n",
       "      <th>1</th>\n",
       "      <td>22571</td>\n",
       "      <td>True</td>\n",
       "      <td>178</td>\n",
       "      <td>68</td>\n",
       "      <td>120</td>\n",
       "      <td>70</td>\n",
       "      <td>False</td>\n",
       "      <td>False</td>\n",
       "      <td>False</td>\n",
       "      <td>0</td>\n",
       "      <td>0</td>\n",
       "      <td>1</td>\n",
       "    </tr>\n",
       "    <tr>\n",
       "      <th>2</th>\n",
       "      <td>16621</td>\n",
       "      <td>True</td>\n",
       "      <td>169</td>\n",
       "      <td>69</td>\n",
       "      <td>120</td>\n",
       "      <td>80</td>\n",
       "      <td>False</td>\n",
       "      <td>True</td>\n",
       "      <td>False</td>\n",
       "      <td>0</td>\n",
       "      <td>0</td>\n",
       "      <td>1</td>\n",
       "    </tr>\n",
       "    <tr>\n",
       "      <th>3</th>\n",
       "      <td>16688</td>\n",
       "      <td>False</td>\n",
       "      <td>156</td>\n",
       "      <td>77</td>\n",
       "      <td>120</td>\n",
       "      <td>80</td>\n",
       "      <td>False</td>\n",
       "      <td>True</td>\n",
       "      <td>False</td>\n",
       "      <td>0</td>\n",
       "      <td>0</td>\n",
       "      <td>1</td>\n",
       "    </tr>\n",
       "    <tr>\n",
       "      <th>4</th>\n",
       "      <td>19498</td>\n",
       "      <td>True</td>\n",
       "      <td>170</td>\n",
       "      <td>98</td>\n",
       "      <td>130</td>\n",
       "      <td>80</td>\n",
       "      <td>True</td>\n",
       "      <td>True</td>\n",
       "      <td>True</td>\n",
       "      <td>0</td>\n",
       "      <td>1</td>\n",
       "      <td>0</td>\n",
       "    </tr>\n",
       "  </tbody>\n",
       "</table>\n",
       "</div>"
      ],
      "text/plain": [
       "     age    sex  height  weight  ap_hi  ap_lo  smoke  active  cardio  \\\n",
       "0  19797  False     161      55    102     68  False    True   False   \n",
       "1  22571   True     178      68    120     70  False   False   False   \n",
       "2  16621   True     169      69    120     80  False    True   False   \n",
       "3  16688  False     156      77    120     80  False    True   False   \n",
       "4  19498   True     170      98    130     80   True    True    True   \n",
       "\n",
       "   cholesterol_at risk  cholesterol_elevated  cholesterol_normal  \n",
       "0                    0                     1                   0  \n",
       "1                    0                     0                   1  \n",
       "2                    0                     0                   1  \n",
       "3                    0                     0                   1  \n",
       "4                    0                     1                   0  "
      ]
     },
     "execution_count": 85,
     "metadata": {},
     "output_type": "execute_result"
    }
   ],
   "source": [
    "# --- Your code for 6 a) here ---\n",
    "\n",
    "#using the get_dummies() function in case of one-hot-encoded\n",
    "data = pd.get_dummies(data, columns=['cholesterol'])\n",
    "data.head(5)"
   ]
  },
  {
   "cell_type": "markdown",
   "metadata": {},
   "source": [
    "----------"
   ]
  }
 ],
 "metadata": {
  "colab": {
   "name": "DADK_exercise_2_2021.ipynb",
   "provenance": []
  },
  "kernelspec": {
   "display_name": "Python 3 (ipykernel)",
   "language": "python",
   "name": "python3"
  },
  "language_info": {
   "codemirror_mode": {
    "name": "ipython",
    "version": 3
   },
   "file_extension": ".py",
   "mimetype": "text/x-python",
   "name": "python",
   "nbconvert_exporter": "python",
   "pygments_lexer": "ipython3",
   "version": "3.11.5"
  },
  "toc": {
   "base_numbering": 1,
   "nav_menu": {
    "height": "180px",
    "width": "160px"
   },
   "number_sections": false,
   "sideBar": true,
   "skip_h1_title": true,
   "title_cell": "Table of Contents",
   "title_sidebar": "Contents",
   "toc_cell": false,
   "toc_position": {},
   "toc_section_display": true,
   "toc_window_display": true
  }
 },
 "nbformat": 4,
 "nbformat_minor": 1
}
